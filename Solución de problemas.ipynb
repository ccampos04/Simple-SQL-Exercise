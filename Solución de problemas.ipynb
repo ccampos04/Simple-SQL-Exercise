{
  "nbformat": 4,
  "nbformat_minor": 0,
  "metadata": {
    "colab": {
      "name": "Solución de problemas.ipynb",
      "provenance": [],
      "collapsed_sections": [],
      "authorship_tag": "ABX9TyMs3kMMp/86EcrmYRiSvsV0"
    },
    "kernelspec": {
      "name": "python3",
      "display_name": "Python 3"
    },
    "language_info": {
      "name": "python"
    }
  },
  "cells": [
    {
      "cell_type": "markdown",
      "source": [
        "# ¿Qué es un problema?\n",
        "\n",
        "Del lat. problēma, y este del gr. πρόβλημα próblēma.\n",
        "\n",
        "1. Cuestión que se trata de aclarar.\n",
        "\n",
        "2. Proposición o dificultad de solución dudosa.\n",
        "\n",
        "3. Conjunto de hechos o circunstancias que dificultan la consecución de algún fin.\n",
        "\n",
        "4. Disgusto, preocupación. U. m. en pl. Mi hijo solo da problemas.\n",
        "\n",
        "5. Planteamiento de una situación cuya respuesta desconocida debe obtenerse a través de métodos científicos.\n",
        "\n",
        "problema determinado\n",
        "\n",
        "1. Mat. problema que no puede tener sino una solución, o más de una en número limitado.\n",
        "\n",
        "problema indeterminado\n",
        "\n",
        "1. Mat. problema que tiene un número ilimitado de soluciones.\n",
        "\n",
        "[Fuente: Real Académia Española (RAE)](https://dle.rae.es/problema)\n",
        "\n"
      ],
      "metadata": {
        "id": "k4pPLjvBLkcW"
      }
    },
    {
      "cell_type": "markdown",
      "source": [
        "# Algortimo\n"
      ],
      "metadata": {
        "id": "6zPuJ_CKQK3o"
      }
    },
    {
      "cell_type": "markdown",
      "source": [
        "El ser humano a diferencia de otras especies, es su capacidad para resolver problemas. Frente a una situación de conflicto, el hombre establece una secuencia de pasos a seguir para dar con una solución, y esto es a lo que se le conoce como algoritmo. \n",
        "\n",
        "En otras palabras, cuando hablamos de lo que es un algoritmo, nos estamos refiriendo **a un conjunto de pasos precisos** y que siguen un **orden lógico**, que se deben realizar **para solucionar un problema** o cumplir un objetivo específico. \n",
        "\n",
        "Las características de un algoritmo que siempre deben estar presentes son las siguientes:\n",
        "\n",
        "1. Un algoritmo debe ser preciso: esto quiere decir que cada una de las acciones que se ejecutan deben estar claras. No hay lugar para las ambigüedades. \n",
        "2. Un algoritmo debe ser definido: es decir, que no importa las veces que se ejecuta un determinado algoritmo, siempre tiene que dar el mismo resultado. \n",
        "3. Un algoritmo debe ser finito: quiere decir que un proceso algorítmico está compuesto por un determinado número de pasos, que inician con una acción y terminan con un resultado. \n",
        "\n",
        "## ¿Qué es un algoritmo en programación?\n",
        "Dentro del campo de la tecnología, cuando hablamos de lo que es un algoritmo en la informática, primero debemos entender cómo es el proceso de desarrollo de softwares. \n",
        "\n",
        "Cuando una persona crea un programa de computadora o una aplicación, lo que está haciendo es configurar un conjunto de algoritmos. De esta manera, dependiendo de las órdenes que se le da a la máquina, se ejecutarán una serie de operaciones determinadas para obtener el resultado esperado. \n",
        "\n",
        "Para poder configurar los algoritmos, es necesario utilizar un lenguaje de programación, que sirve para que la máquina pueda entender a la perfección cuales son las instrucciones que tiene que seguir para llevar a cabo el proceso.\n",
        "\n",
        "[Fuente: ¿Qué es un algoritmo?](https://www.crehana.com/mx/blog/marketing-digital/que-es-un-algoritmo/)\n",
        "\n"
      ],
      "metadata": {
        "id": "nKng9fxsSS64"
      }
    },
    {
      "cell_type": "markdown",
      "source": [
        "# PSeint\n"
      ],
      "metadata": {
        "id": "AL1psGuktNCY"
      }
    },
    {
      "cell_type": "markdown",
      "source": [
        "## Enlaces importates\n",
        "\n",
        "* Descarga del [software](http://pseint.sourceforge.net/?page=descargas.php)\n",
        "* [Documentación](http://pseint.sourceforge.net/index.php?page=documentacion.php)\n",
        "* [Ejemplos](http://pseint.sourceforge.net/index.php?page=ejemplos.php)\n",
        "* [Diagramas](http://pseint.sourceforge.net/index.php?page=pseudocodigo.php)"
      ],
      "metadata": {
        "id": "YFQ8OHjzvkIX"
      }
    },
    {
      "cell_type": "markdown",
      "source": [
        "## Ejemplo - Contar dígitos"
      ],
      "metadata": {
        "id": "-s8Ck5SV6C4v"
      }
    },
    {
      "cell_type": "markdown",
      "source": [
        "#### Diagrama\n",
        "\n",
        "![image.png](data:image/png;base64,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)"
      ],
      "metadata": {
        "id": "NUUfTrwg5S0m"
      }
    },
    {
      "cell_type": "markdown",
      "source": [
        "\n",
        "#### PSeudo código\n",
        "```\n",
        "Algoritmo contarDigitos\n",
        "\ttotal = 0\n",
        "\tLeer a\n",
        "\tMientras a > 0 Hacer\n",
        "\t\t// Realiza la operación\n",
        "\t\ta = trunc(a / 10)\n",
        "\t\ttotal = total + 1\n",
        "\tFinMientras\n",
        "\tEscribir total\n",
        "FinAlgoritmo\n",
        "```\n",
        "\n"
      ],
      "metadata": {
        "id": "J7L7g1oS5r02"
      }
    },
    {
      "cell_type": "markdown",
      "source": [
        "# ¿Qué es Markdown?\n",
        "\n",
        "Esta herramienta fue creada en **2004 por John Gruber**, y se distribuye de manera gratuita bajo una *licencia BSD*.\n",
        "\n",
        "Aunque en realidad Markdown también se considera un **lenguaje** que tiene la finalidad de permitir crear contenido de una manera sencilla de escribir, y que en todo momento mantenga un diseño legible, así que para simplificar puedes considerar Markdown como un método de escritura.\n",
        "\n"
      ],
      "metadata": {
        "id": "d1WNWHL5v7S7"
      }
    },
    {
      "cell_type": "markdown",
      "source": [
        "## Enlaces y documentación\n",
        "\n",
        "Sintaxis [enlace](https://markdown.es/sintaxis-markdown/)\n",
        "\n"
      ],
      "metadata": {
        "id": "-PaojuWJweCT"
      }
    },
    {
      "cell_type": "markdown",
      "source": [
        "## Google Colab\n",
        "\n",
        "Documentación [enlace](http://fcaglp.unlp.edu.ar/~gbaume/grupo/Publicaciones/Apuntes/GoogleColab.pdf)\n",
        "Otro [enlace](http://gmc.geofisica.unam.mx/papime2020/Descargables/manuales/manual%20de%20uso%20Google%20Colab.pdf)"
      ],
      "metadata": {
        "id": "T9hGX9U8xBkg"
      }
    },
    {
      "cell_type": "markdown",
      "source": [
        "# Python\n",
        "\n",
        "* Sitio oficial para descarga del [software](https://www.python.org/)\n",
        "* Tutorial 1 w3 School [Python](https://www.w3schools.com/python/)\n",
        "* Tutorial 2 [Python Programiz](https://www.programiz.com/python-programming)\n",
        "* Tutorial 3 [Tutorials Point](https://www.tutorialspoint.com/python/index.htm)\n",
        "* Tutorial 4 [Real Python](https://realpython.com/)\n",
        "* Curso gratuito de [Python](https://www.netacad.com/es/courses/programming/pcap-programming-essentials-python)\n"
      ],
      "metadata": {
        "id": "j_l9xb3ISRxK"
      }
    },
    {
      "cell_type": "code",
      "source": [
        "print(\"Hola mundo\")\n",
        "\n",
        "a = 5"
      ],
      "metadata": {
        "id": "KKVtJqA7UT1p"
      },
      "execution_count": null,
      "outputs": []
    },
    {
      "cell_type": "code",
      "source": [
        "print(a)"
      ],
      "metadata": {
        "id": "Ip1Z7o_9U0QN"
      },
      "execution_count": null,
      "outputs": []
    }
  ]
}